{
 "metadata": {
  "name": "",
  "signature": "sha256:46220ee90bdf19aad5ad13417e50a2cb78d837d28ecbe699763b668abcca34ca"
 },
 "nbformat": 3,
 "nbformat_minor": 0,
 "worksheets": [
  {
   "cells": [
    {
     "cell_type": "heading",
     "level": 1,
     "metadata": {},
     "source": [
      "Recursive Functions"
     ]
    },
    {
     "cell_type": "markdown",
     "metadata": {},
     "source": [
      "Recursive functions are functions that call themselves during execution and are typically used to traverse data structures. Here are a few examples."
     ]
    },
    {
     "cell_type": "markdown",
     "metadata": {},
     "source": [
      "from Wikipedia http://en.wikipedia.org/wiki/Recursion\n",
      "Recursion is the process of repeating items in a self-similar way. For instance, when the surfaces of two mirrors are exactly parallel with each other, the nested images that occur are a form of infinite recursion. The term has a variety of meanings specific to a variety of disciplines ranging from linguistics to logic. The most common application of recursion is in mathematics and computer science, in which it refers to a method of defining functions in which the function being defined is applied within its own definition."
     ]
    },
    {
     "cell_type": "code",
     "collapsed": false,
     "input": [
      "# Import the debugger package\n",
      "import pdb"
     ],
     "language": "python",
     "metadata": {},
     "outputs": [],
     "prompt_number": 1
    },
    {
     "cell_type": "code",
     "collapsed": false,
     "input": [
      "def dumb_recur(start=0):\n",
      "    #pdb.Pdb(skip=['django.*']).set_trace()\n",
      "    if start == 5:\n",
      "        return [start]\n",
      "    else:\n",
      "        return [start] + dumb_recur(start+1)"
     ],
     "language": "python",
     "metadata": {},
     "outputs": [],
     "prompt_number": 9
    },
    {
     "cell_type": "code",
     "collapsed": false,
     "input": [
      "print(dumb_recur())"
     ],
     "language": "python",
     "metadata": {},
     "outputs": [
      {
       "output_type": "stream",
       "stream": "stdout",
       "text": [
        "[0, 1, 2, 3, 4, 5]\n"
       ]
      }
     ],
     "prompt_number": 10
    },
    {
     "cell_type": "code",
     "collapsed": false,
     "input": [
      "def recur_wordlen(word_list):\n",
      "    #pdb.Pdb(skip=['django.*']).set_trace()\n",
      "    if len(word_list) == 1:\n",
      "        return [len(word_list[0])]\n",
      "    else:\n",
      "        templen = [len(word_list.pop())]\n",
      "        return recur_wordlen(word_list) + templen"
     ],
     "language": "python",
     "metadata": {},
     "outputs": [],
     "prompt_number": 3
    },
    {
     "cell_type": "code",
     "collapsed": false,
     "input": [
      "mywords = ['cat', 'four', 'cathy', 'sixpak', 'gerhard', 'eighton8']\n",
      "print(recur_wordlen(mywords))"
     ],
     "language": "python",
     "metadata": {},
     "outputs": [
      {
       "output_type": "stream",
       "stream": "stdout",
       "text": [
        "[3, 4, 5, 6, 7, 8]\n"
       ]
      }
     ],
     "prompt_number": 8
    },
    {
     "cell_type": "markdown",
     "metadata": {},
     "source": [
      "Row 0                   1\n",
      "Row 1                 1   1\n",
      "                    1   2   1\n",
      "                  1   3   3   1\n",
      "                1   4   6   4   1\n",
      "              1   5   10  10  5   1\n",
      "            1 ..."
     ]
    },
    {
     "cell_type": "code",
     "collapsed": false,
     "input": [
      "print(mywords.pop())\n",
      "help(mywords.pop)"
     ],
     "language": "python",
     "metadata": {},
     "outputs": [
      {
       "output_type": "stream",
       "stream": "stdout",
       "text": [
        "eighton8\n",
        "Help on built-in function pop:\n",
        "\n",
        "pop(...)\n",
        "    L.pop([index]) -> item -- remove and return item at index (default last).\n",
        "    Raises IndexError if list is empty or index is out of range.\n",
        "\n"
       ]
      }
     ],
     "prompt_number": 7
    },
    {
     "cell_type": "code",
     "collapsed": false,
     "input": [
      "def pascal_triangle(row, col):\n",
      "    #pdb.Pdb(skip=['django.*']).set_trace()\n",
      "    if((col < 0) or (col > row)):\n",
      "        return 0\n",
      "    elif ((col == 0) or (col == row)):\n",
      "        return 1\n",
      "    else:\n",
      "        return (pascal_triangle(row-1, col-1) + pascal_triangle(row-1, col))\n"
     ],
     "language": "python",
     "metadata": {},
     "outputs": [],
     "prompt_number": 9
    },
    {
     "cell_type": "code",
     "collapsed": false,
     "input": [
      "print(pascal_triangle(8,4))"
     ],
     "language": "python",
     "metadata": {},
     "outputs": [
      {
       "output_type": "stream",
       "stream": "stdout",
       "text": [
        "70\n"
       ]
      }
     ],
     "prompt_number": 12
    },
    {
     "cell_type": "code",
     "collapsed": false,
     "input": [],
     "language": "python",
     "metadata": {},
     "outputs": []
    }
   ],
   "metadata": {}
  }
 ]
}