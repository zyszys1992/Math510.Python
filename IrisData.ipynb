{
 "metadata": {
  "name": "",
  "signature": "sha256:2d1c72c66f54021dbd45376b8b2518a7ab82f84742b5f91146aa73dc7d3625af"
 },
 "nbformat": 3,
 "nbformat_minor": 0,
 "worksheets": [
  {
   "cells": [
    {
     "cell_type": "heading",
     "level": 1,
     "metadata": {},
     "source": [
      "Analysis of Iris Data using iPython notebook"
     ]
    },
    {
     "cell_type": "code",
     "collapsed": false,
     "input": [
      "# force the plots to appear in the notebook\n",
      "%matplotlib inline\n",
      "\n",
      "import pandas as pd\n",
      "import numpy as np\n",
      "import matplotlib.pyplot as plt\n",
      "#help(pd.io.parsers.read_csv)"
     ],
     "language": "python",
     "metadata": {},
     "outputs": [],
     "prompt_number": 1
    },
    {
     "cell_type": "heading",
     "level": 2,
     "metadata": {},
     "source": [
      "Load the Iris Data set"
     ]
    },
    {
     "cell_type": "code",
     "collapsed": false,
     "input": [
      "irisdf = pd.io.parsers.read_csv('iris.csv')"
     ],
     "language": "python",
     "metadata": {},
     "outputs": [],
     "prompt_number": 3
    },
    {
     "cell_type": "heading",
     "level": 3,
     "metadata": {},
     "source": [
      "Look at the attributes and methods associated with the iris data frame"
     ]
    },
    {
     "cell_type": "code",
     "collapsed": false,
     "input": [
      "print(irisdf.__class__)\n",
      "#dir(irisdf)"
     ],
     "language": "python",
     "metadata": {},
     "outputs": [
      {
       "output_type": "stream",
       "stream": "stdout",
       "text": [
        "<class 'pandas.core.frame.DataFrame'>\n"
       ]
      }
     ],
     "prompt_number": 5
    },
    {
     "cell_type": "heading",
     "level": 2,
     "metadata": {},
     "source": [
      "Look at the first 10 records"
     ]
    },
    {
     "cell_type": "code",
     "collapsed": false,
     "input": [
      "irisdf.head(10)"
     ],
     "language": "python",
     "metadata": {},
     "outputs": [
      {
       "html": [
        "<div style=\"max-height:1000px;max-width:1500px;overflow:auto;\">\n",
        "<table border=\"1\" class=\"dataframe\">\n",
        "  <thead>\n",
        "    <tr style=\"text-align: right;\">\n",
        "      <th></th>\n",
        "      <th>Sepal length</th>\n",
        "      <th>Sepal width</th>\n",
        "      <th>Petal length</th>\n",
        "      <th>Petal width</th>\n",
        "      <th>Species</th>\n",
        "    </tr>\n",
        "  </thead>\n",
        "  <tbody>\n",
        "    <tr>\n",
        "      <th>0</th>\n",
        "      <td> 5.8</td>\n",
        "      <td> 4.0</td>\n",
        "      <td> 1.2</td>\n",
        "      <td> 0.2</td>\n",
        "      <td> setosa</td>\n",
        "    </tr>\n",
        "    <tr>\n",
        "      <th>1</th>\n",
        "      <td> 5.7</td>\n",
        "      <td> 4.4</td>\n",
        "      <td> 1.5</td>\n",
        "      <td> 0.4</td>\n",
        "      <td> setosa</td>\n",
        "    </tr>\n",
        "    <tr>\n",
        "      <th>2</th>\n",
        "      <td> 5.7</td>\n",
        "      <td> 3.8</td>\n",
        "      <td> 1.7</td>\n",
        "      <td> 0.3</td>\n",
        "      <td> setosa</td>\n",
        "    </tr>\n",
        "    <tr>\n",
        "      <th>3</th>\n",
        "      <td> 5.5</td>\n",
        "      <td> 4.2</td>\n",
        "      <td> 1.4</td>\n",
        "      <td> 0.2</td>\n",
        "      <td> setosa</td>\n",
        "    </tr>\n",
        "    <tr>\n",
        "      <th>4</th>\n",
        "      <td> 5.5</td>\n",
        "      <td> 3.5</td>\n",
        "      <td> 1.3</td>\n",
        "      <td> 0.2</td>\n",
        "      <td> setosa</td>\n",
        "    </tr>\n",
        "    <tr>\n",
        "      <th>5</th>\n",
        "      <td> 5.4</td>\n",
        "      <td> 3.9</td>\n",
        "      <td> 1.7</td>\n",
        "      <td> 0.4</td>\n",
        "      <td> setosa</td>\n",
        "    </tr>\n",
        "    <tr>\n",
        "      <th>6</th>\n",
        "      <td> 5.4</td>\n",
        "      <td> 3.7</td>\n",
        "      <td> 1.5</td>\n",
        "      <td> 0.2</td>\n",
        "      <td> setosa</td>\n",
        "    </tr>\n",
        "    <tr>\n",
        "      <th>7</th>\n",
        "      <td> 5.4</td>\n",
        "      <td> 3.9</td>\n",
        "      <td> 1.3</td>\n",
        "      <td> 0.4</td>\n",
        "      <td> setosa</td>\n",
        "    </tr>\n",
        "    <tr>\n",
        "      <th>8</th>\n",
        "      <td> 5.4</td>\n",
        "      <td> 3.4</td>\n",
        "      <td> 1.7</td>\n",
        "      <td> 0.2</td>\n",
        "      <td> setosa</td>\n",
        "    </tr>\n",
        "    <tr>\n",
        "      <th>9</th>\n",
        "      <td> 5.4</td>\n",
        "      <td> 3.4</td>\n",
        "      <td> 1.5</td>\n",
        "      <td> 0.4</td>\n",
        "      <td> setosa</td>\n",
        "    </tr>\n",
        "  </tbody>\n",
        "</table>\n",
        "</div>"
       ],
       "metadata": {},
       "output_type": "pyout",
       "prompt_number": 3,
       "text": [
        "   Sepal length  Sepal width  Petal length  Petal width Species\n",
        "0           5.8          4.0           1.2          0.2  setosa\n",
        "1           5.7          4.4           1.5          0.4  setosa\n",
        "2           5.7          3.8           1.7          0.3  setosa\n",
        "3           5.5          4.2           1.4          0.2  setosa\n",
        "4           5.5          3.5           1.3          0.2  setosa\n",
        "5           5.4          3.9           1.7          0.4  setosa\n",
        "6           5.4          3.7           1.5          0.2  setosa\n",
        "7           5.4          3.9           1.3          0.4  setosa\n",
        "8           5.4          3.4           1.7          0.2  setosa\n",
        "9           5.4          3.4           1.5          0.4  setosa"
       ]
      }
     ],
     "prompt_number": 3
    },
    {
     "cell_type": "heading",
     "level": 2,
     "metadata": {},
     "source": [
      "Import the stats module from scipy"
     ]
    },
    {
     "cell_type": "code",
     "collapsed": false,
     "input": [
      "from scipy import stats\n"
     ],
     "language": "python",
     "metadata": {},
     "outputs": [],
     "prompt_number": 6
    },
    {
     "cell_type": "code",
     "collapsed": false,
     "input": [
      "#help(stats.describe)"
     ],
     "language": "python",
     "metadata": {},
     "outputs": [],
     "prompt_number": 5
    },
    {
     "cell_type": "heading",
     "level": 2,
     "metadata": {},
     "source": [
      "Get basic descriptive statistics for the Sepal length column"
     ]
    },
    {
     "cell_type": "code",
     "collapsed": false,
     "input": [
      "help(stats.describe)"
     ],
     "language": "python",
     "metadata": {},
     "outputs": [
      {
       "output_type": "stream",
       "stream": "stdout",
       "text": [
        "Help on function describe in module scipy.stats.stats:\n",
        "\n",
        "describe(a, axis=0)\n",
        "    Computes several descriptive statistics of the passed array.\n",
        "    \n",
        "    Parameters\n",
        "    ----------\n",
        "    a : array_like\n",
        "       data\n",
        "    axis : int or None\n",
        "       axis along which statistics are calculated. If axis is None, then data\n",
        "       array is raveled. The default axis is zero.\n",
        "    \n",
        "    Returns\n",
        "    -------\n",
        "    size of the data : int\n",
        "       length of data along axis\n",
        "    (min, max): tuple of ndarrays or floats\n",
        "       minimum and maximum value of data array\n",
        "    arithmetic mean : ndarray or float\n",
        "       mean of data along axis\n",
        "    unbiased variance : ndarray or float\n",
        "       variance of the data along axis, denominator is number of observations\n",
        "       minus one.\n",
        "    biased skewness : ndarray or float\n",
        "       skewness, based on moment calculations with denominator equal to the\n",
        "       number of observations, i.e. no degrees of freedom correction\n",
        "    biased kurtosis : ndarray or float\n",
        "       kurtosis (Fisher), the kurtosis is normalized so that it is zero for the\n",
        "       normal distribution. No degrees of freedom or bias correction is used.\n",
        "    \n",
        "    See Also\n",
        "    --------\n",
        "    skew\n",
        "    kurtosis\n",
        "\n"
       ]
      }
     ],
     "prompt_number": 7
    },
    {
     "cell_type": "code",
     "collapsed": false,
     "input": [
      "print(irisdf['Sepal length'].__class__)"
     ],
     "language": "python",
     "metadata": {},
     "outputs": [
      {
       "output_type": "stream",
       "stream": "stdout",
       "text": [
        "<class 'pandas.core.series.Series'>\n"
       ]
      }
     ],
     "prompt_number": 9
    },
    {
     "cell_type": "markdown",
     "metadata": {},
     "source": [
      "stats.describe(irisdf)"
     ]
    },
    {
     "cell_type": "code",
     "collapsed": false,
     "input": [
      "stats.describe(irisdf['Sepal length'])"
     ],
     "language": "python",
     "metadata": {},
     "outputs": [
      {
       "metadata": {},
       "output_type": "pyout",
       "prompt_number": 11,
       "text": [
        "(150,\n",
        " (4.2999999999999998, 7.9000000000000004),\n",
        " 5.8433333333333337,\n",
        " 0.68569351230425069,\n",
        " 0.3117530585022961,\n",
        " -0.5735679489249765)"
       ]
      }
     ],
     "prompt_number": 11
    },
    {
     "cell_type": "heading",
     "level": 3,
     "metadata": {},
     "source": [
      "Get basic descriptive statistics for the Sepal length column by direct indexing"
     ]
    },
    {
     "cell_type": "code",
     "collapsed": false,
     "input": [
      "print(irisdf.columns[0])\n",
      "stats.describe(irisdf[irisdf.columns[0]])"
     ],
     "language": "python",
     "metadata": {},
     "outputs": [
      {
       "output_type": "stream",
       "stream": "stdout",
       "text": [
        "Sepal length\n"
       ]
      },
      {
       "metadata": {},
       "output_type": "pyout",
       "prompt_number": 12,
       "text": [
        "(150,\n",
        " (4.2999999999999998, 7.9000000000000004),\n",
        " 5.8433333333333337,\n",
        " 0.68569351230425069,\n",
        " 0.3117530585022961,\n",
        " -0.5735679489249765)"
       ]
      }
     ],
     "prompt_number": 12
    },
    {
     "cell_type": "heading",
     "level": 3,
     "metadata": {},
     "source": [
      "Get basic descriptive statistics for all columns by direct indexing"
     ]
    },
    {
     "cell_type": "code",
     "collapsed": false,
     "input": [
      "for i in range(4):\n",
      "    print(irisdf.columns[i], stats.describe(irisdf[irisdf.columns[i]]))"
     ],
     "language": "python",
     "metadata": {},
     "outputs": []
    },
    {
     "cell_type": "heading",
     "level": 3,
     "metadata": {},
     "source": [
      "Assign part of the data frame to a new variable"
     ]
    },
    {
     "cell_type": "code",
     "collapsed": false,
     "input": [
      "sepal_lengths = irisdf[['Sepal length']]\n",
      "stats.describe(sepal_lengths)\n",
      "#print(sepal_lengths)"
     ],
     "language": "python",
     "metadata": {},
     "outputs": [
      {
       "metadata": {},
       "output_type": "pyout",
       "prompt_number": 13,
       "text": [
        "(150,\n",
        " (array([ 4.3]), array([ 7.9])),\n",
        " array([ 5.84333333]),\n",
        " array([ 0.68569351]),\n",
        " array([ 0.31175306]),\n",
        " array([-0.57356795]))"
       ]
      }
     ],
     "prompt_number": 13
    },
    {
     "cell_type": "heading",
     "level": 3,
     "metadata": {},
     "source": [
      "Use the descriptive built-in method to print statistics about each column in the data frame"
     ]
    },
    {
     "cell_type": "code",
     "collapsed": false,
     "input": [
      "# Print a table of descriptive statistics\n",
      "irisdf.describe()"
     ],
     "language": "python",
     "metadata": {},
     "outputs": [
      {
       "html": [
        "<div style=\"max-height:1000px;max-width:1500px;overflow:auto;\">\n",
        "<table border=\"1\" class=\"dataframe\">\n",
        "  <thead>\n",
        "    <tr style=\"text-align: right;\">\n",
        "      <th></th>\n",
        "      <th>Sepal length</th>\n",
        "      <th>Sepal width</th>\n",
        "      <th>Petal length</th>\n",
        "      <th>Petal width</th>\n",
        "    </tr>\n",
        "  </thead>\n",
        "  <tbody>\n",
        "    <tr>\n",
        "      <th>count</th>\n",
        "      <td> 150.000000</td>\n",
        "      <td> 150.000000</td>\n",
        "      <td> 150.000000</td>\n",
        "      <td> 150.000000</td>\n",
        "    </tr>\n",
        "    <tr>\n",
        "      <th>mean</th>\n",
        "      <td>   5.843333</td>\n",
        "      <td>   3.057333</td>\n",
        "      <td>   3.758000</td>\n",
        "      <td>   1.199333</td>\n",
        "    </tr>\n",
        "    <tr>\n",
        "      <th>std</th>\n",
        "      <td>   0.828066</td>\n",
        "      <td>   0.435866</td>\n",
        "      <td>   1.765298</td>\n",
        "      <td>   0.762238</td>\n",
        "    </tr>\n",
        "    <tr>\n",
        "      <th>min</th>\n",
        "      <td>   4.300000</td>\n",
        "      <td>   2.000000</td>\n",
        "      <td>   1.000000</td>\n",
        "      <td>   0.100000</td>\n",
        "    </tr>\n",
        "    <tr>\n",
        "      <th>25%</th>\n",
        "      <td>   5.100000</td>\n",
        "      <td>   2.800000</td>\n",
        "      <td>   1.600000</td>\n",
        "      <td>   0.300000</td>\n",
        "    </tr>\n",
        "    <tr>\n",
        "      <th>50%</th>\n",
        "      <td>   5.800000</td>\n",
        "      <td>   3.000000</td>\n",
        "      <td>   4.350000</td>\n",
        "      <td>   1.300000</td>\n",
        "    </tr>\n",
        "    <tr>\n",
        "      <th>75%</th>\n",
        "      <td>   6.400000</td>\n",
        "      <td>   3.300000</td>\n",
        "      <td>   5.100000</td>\n",
        "      <td>   1.800000</td>\n",
        "    </tr>\n",
        "    <tr>\n",
        "      <th>max</th>\n",
        "      <td>   7.900000</td>\n",
        "      <td>   4.400000</td>\n",
        "      <td>   6.900000</td>\n",
        "      <td>   2.500000</td>\n",
        "    </tr>\n",
        "  </tbody>\n",
        "</table>\n",
        "</div>"
       ],
       "metadata": {},
       "output_type": "pyout",
       "prompt_number": 28,
       "text": [
        "       Sepal length  Sepal width  Petal length  Petal width\n",
        "count    150.000000   150.000000    150.000000   150.000000\n",
        "mean       5.843333     3.057333      3.758000     1.199333\n",
        "std        0.828066     0.435866      1.765298     0.762238\n",
        "min        4.300000     2.000000      1.000000     0.100000\n",
        "25%        5.100000     2.800000      1.600000     0.300000\n",
        "50%        5.800000     3.000000      4.350000     1.300000\n",
        "75%        6.400000     3.300000      5.100000     1.800000\n",
        "max        7.900000     4.400000      6.900000     2.500000"
       ]
      }
     ],
     "prompt_number": 28
    },
    {
     "cell_type": "heading",
     "level": 3,
     "metadata": {},
     "source": [
      "Use the median built-in method to print statistics about each column in the data frame"
     ]
    },
    {
     "cell_type": "code",
     "collapsed": false,
     "input": [
      "irisdf.median()"
     ],
     "language": "python",
     "metadata": {},
     "outputs": [
      {
       "metadata": {},
       "output_type": "pyout",
       "prompt_number": 42,
       "text": [
        "Sepal length    5.80\n",
        "Sepal width     3.00\n",
        "Petal length    4.35\n",
        "Petal width     1.30\n",
        "dtype: float64"
       ]
      }
     ],
     "prompt_number": 42
    },
    {
     "cell_type": "heading",
     "level": 3,
     "metadata": {},
     "source": [
      "Use the skewness built-in method to print statistics about each column in the data frame"
     ]
    },
    {
     "cell_type": "code",
     "collapsed": false,
     "input": [
      "irisdf.skew()"
     ],
     "language": "python",
     "metadata": {},
     "outputs": [
      {
       "metadata": {},
       "output_type": "pyout",
       "prompt_number": 40,
       "text": [
        "Sepal length    0.314911\n",
        "Sepal width     0.318966\n",
        "Petal length   -0.274884\n",
        "Petal width    -0.102967\n",
        "dtype: float64"
       ]
      }
     ],
     "prompt_number": 40
    },
    {
     "cell_type": "heading",
     "level": 3,
     "metadata": {},
     "source": [
      "Use the variance built-in method to print statistics about each column in the data frame"
     ]
    },
    {
     "cell_type": "code",
     "collapsed": false,
     "input": [
      "irisdf.var()"
     ],
     "language": "python",
     "metadata": {},
     "outputs": [
      {
       "metadata": {},
       "output_type": "pyout",
       "prompt_number": 38,
       "text": [
        "Sepal length    0.685694\n",
        "Sepal width     0.189979\n",
        "Petal length    3.116278\n",
        "Petal width     0.581006\n",
        "dtype: float64"
       ]
      }
     ],
     "prompt_number": 38
    },
    {
     "cell_type": "heading",
     "level": 3,
     "metadata": {},
     "source": [
      "Use the kurtosis built-in method to print statistics about each column in the data frame"
     ]
    },
    {
     "cell_type": "code",
     "collapsed": false,
     "input": [
      "irisdf.kurt()"
     ],
     "language": "python",
     "metadata": {},
     "outputs": [
      {
       "metadata": {},
       "output_type": "pyout",
       "prompt_number": 39,
       "text": [
        "Sepal length   -0.552064\n",
        "Sepal width     0.228249\n",
        "Petal length   -1.402103\n",
        "Petal width    -1.340604\n",
        "dtype: float64"
       ]
      }
     ],
     "prompt_number": 39
    },
    {
     "cell_type": "heading",
     "level": 3,
     "metadata": {},
     "source": [
      "Use the histogram built-in method to print statistics about each column in the data frame"
     ]
    },
    {
     "cell_type": "code",
     "collapsed": false,
     "input": [
      "irisdf.hist()"
     ],
     "language": "python",
     "metadata": {},
     "outputs": [
      {
       "metadata": {},
       "output_type": "pyout",
       "prompt_number": 33,
       "text": [
        "array([[<matplotlib.axes._subplots.AxesSubplot object at 0x10958f6d0>,\n",
        "        <matplotlib.axes._subplots.AxesSubplot object at 0x10e77f710>],\n",
        "       [<matplotlib.axes._subplots.AxesSubplot object at 0x10ee5ff10>,\n",
        "        <matplotlib.axes._subplots.AxesSubplot object at 0x109708290>]], dtype=object)"
       ]
      },
      {
       "metadata": {},
       "output_type": "display_data",
       "png": "[encoded data removed]",
       "text": [
        "<matplotlib.figure.Figure at 0x1095c8210>"
       ]
      }
     ],
     "prompt_number": 33
    },
    {
     "cell_type": "heading",
     "level": 3,
     "metadata": {},
     "source": [
      "Use the matplotlib.pyplot functions to make a similar plot  "
     ]
    },
    {
     "cell_type": "code",
     "collapsed": false,
     "input": [
      "#plt.axis([40, 160, 0, 0.03])\n",
      "plt.figure(1, figsize=[8,8])\n",
      "plt.ylabel('Probability')\n",
      "plt.title(\"Iris Data\")\n",
      "for i in range(4):\n",
      "    subp=220+i+1\n",
      "    plt.subplot(subp)\n",
      "    plt.xlabel(irisdf.columns[i])\n",
      "    plt.hist(irisdf[irisdf.columns[i]], bins=15, color=\"gray\")\n",
      "#plt.show(block=False)\n",
      "plt.show()"
     ],
     "language": "python",
     "metadata": {},
     "outputs": [
      {
       "metadata": {},
       "output_type": "display_data",
       "png": "[encoded data removed]",
       "text": [
        "<matplotlib.figure.Figure at 0x109582b90>"
       ]
      }
     ],
     "prompt_number": 34
    },
    {
     "cell_type": "code",
     "collapsed": false,
     "input": [
      "plt.close('all')"
     ],
     "language": "python",
     "metadata": {},
     "outputs": [],
     "prompt_number": 35
    },
    {
     "cell_type": "code",
     "collapsed": false,
     "input": [
      "plt.hist(irisdf['Sepal length'], bins=20, color=\"red\")\n",
      "plt.figure(1)\n",
      "plt.show()"
     ],
     "language": "python",
     "metadata": {},
     "outputs": [
      {
       "metadata": {},
       "output_type": "display_data",
       "png": "[encoded data removed]",
       "text": [
        "<matplotlib.figure.Figure at 0x10e796090>"
       ]
      }
     ],
     "prompt_number": 36
    },
    {
     "cell_type": "code",
     "collapsed": false,
     "input": [
      "plt.close('all')"
     ],
     "language": "python",
     "metadata": {},
     "outputs": [],
     "prompt_number": 37
    },
    {
     "cell_type": "code",
     "collapsed": false,
     "input": [
      "#help(plt.figure)"
     ],
     "language": "python",
     "metadata": {},
     "outputs": [],
     "prompt_number": 17
    },
    {
     "cell_type": "heading",
     "level": 2,
     "metadata": {},
     "source": [
      "Example when not using Pandas to create a dataframe object and associated methods "
     ]
    },
    {
     "cell_type": "heading",
     "level": 4,
     "metadata": {},
     "source": [
      "We have to read and manage the data using core functions."
     ]
    },
    {
     "cell_type": "code",
     "collapsed": false,
     "input": [
      "#Read in the Iris data set splitting on commas\n",
      "k = [s.split(',') for s in open('iris.csv').readlines()]"
     ],
     "language": "python",
     "metadata": {},
     "outputs": [],
     "prompt_number": 44
    },
    {
     "cell_type": "heading",
     "level": 4,
     "metadata": {},
     "source": [
      "Look at the directory of k and the class of k and the class of element 1 within k"
     ]
    },
    {
     "cell_type": "code",
     "collapsed": false,
     "input": [
      "print(dir(k[1]))\n",
      "\n",
      "print(\"class of k \",k.__class__)\n",
      "\n",
      "print(\"class of k[1] \",k[1].__class__)"
     ],
     "language": "python",
     "metadata": {},
     "outputs": [
      {
       "output_type": "stream",
       "stream": "stdout",
       "text": [
        "['__add__', '__class__', '__contains__', '__delattr__', '__delitem__', '__dir__', '__doc__', '__eq__', '__format__', '__ge__', '__getattribute__', '__getitem__', '__gt__', '__hash__', '__iadd__', '__imul__', '__init__', '__iter__', '__le__', '__len__', '__lt__', '__mul__', '__ne__', '__new__', '__reduce__', '__reduce_ex__', '__repr__', '__reversed__', '__rmul__', '__setattr__', '__setitem__', '__sizeof__', '__str__', '__subclasshook__', 'append', 'clear', 'copy', 'count', 'extend', 'index', 'insert', 'pop', 'remove', 'reverse', 'sort']\n",
        "class of k  <class 'list'>\n",
        "class of k[1]  <class 'list'>\n"
       ]
      }
     ],
     "prompt_number": 46
    },
    {
     "cell_type": "heading",
     "level": 4,
     "metadata": {},
     "source": [
      "Directly index the list"
     ]
    },
    {
     "cell_type": "code",
     "collapsed": false,
     "input": [
      "for i in k[1]:\n",
      "    print(i,'\\n')\n",
      "    \n",
      "print(k[1][0],'\\n')\n",
      "print(k[1][1],'\\n')\n",
      "print(k[1][2],'\\n')\n",
      "print(k[1][3],'\\n')\n",
      "print(k[1][4],'\\n')"
     ],
     "language": "python",
     "metadata": {},
     "outputs": [
      {
       "output_type": "stream",
       "stream": "stdout",
       "text": [
        "5.8 \n",
        "\n",
        "4 \n",
        "\n",
        "1.2 \n",
        "\n",
        "0.2 \n",
        "\n",
        "setosa\n",
        " \n",
        "\n",
        "5.8 \n",
        "\n",
        "4 \n",
        "\n",
        "1.2 \n",
        "\n",
        "0.2 \n",
        "\n",
        "setosa\n",
        " \n",
        "\n"
       ]
      }
     ],
     "prompt_number": 45
    },
    {
     "cell_type": "code",
     "collapsed": false,
     "input": [
      "#Save the column names\n",
      "col_names = k[0]\n",
      "\n",
      "#Remove the column names\n",
      "k1 = k[1:(len(k))]"
     ],
     "language": "python",
     "metadata": {},
     "outputs": [],
     "prompt_number": 47
    },
    {
     "cell_type": "code",
     "collapsed": false,
     "input": [
      "#Create a list of columns that contain\n",
      "#the values of each characteristic (this\n",
      "#is essentially transposing rows and columns)\n",
      "k2 = list(zip(*k1))\n",
      "len(k2)"
     ],
     "language": "python",
     "metadata": {},
     "outputs": [
      {
       "metadata": {},
       "output_type": "pyout",
       "prompt_number": 48,
       "text": [
        "5"
       ]
      }
     ],
     "prompt_number": 48
    },
    {
     "cell_type": "code",
     "collapsed": false,
     "input": [
      "#Calculate the mean of each column\n",
      "for i in range(4):\n",
      "    iriscol = []\n",
      "    #Convert the string representing each\n",
      "    #measurement into a floating point number\n",
      "    #for the entire column\n",
      "    for j in range(len(k2[i])):\n",
      "        iriscol.append(float(k2[i][j]))\n",
      "    #Calculate the mean using statistics.mean function\n",
      "    colmean = float(sum(iriscol)) / len(iriscol)\n",
      "    print('Mean of', col_names[i], colmean, sep=' ')"
     ],
     "language": "python",
     "metadata": {},
     "outputs": [
      {
       "output_type": "stream",
       "stream": "stdout",
       "text": [
        "Mean of Sepal length 5.843333333333334\n",
        "Mean of Sepal width 3.0573333333333332\n",
        "Mean of Petal length 3.7580000000000005\n",
        "Mean of Petal width 1.1993333333333338\n"
       ]
      }
     ],
     "prompt_number": 52
    },
    {
     "cell_type": "code",
     "collapsed": false,
     "input": [],
     "language": "python",
     "metadata": {},
     "outputs": []
    }
   ],
   "metadata": {}
  }
 ]
}