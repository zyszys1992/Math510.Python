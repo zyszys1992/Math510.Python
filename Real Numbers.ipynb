{
 "metadata": {
  "name": "",
  "signature": "sha256:3bb892274e69b0c2d7697c072993e39f741a5b7368af9a1bb13b7d9d24452f59"
 },
 "nbformat": 3,
 "nbformat_minor": 0,
 "worksheets": [
  {
   "cells": [
    {
     "cell_type": "heading",
     "level": 1,
     "metadata": {},
     "source": [
      "Floating Point Numbers"
     ]
    },
    {
     "cell_type": "code",
     "collapsed": false,
     "input": [
      "1/10 == 0.10000000000000000"
     ],
     "language": "python",
     "metadata": {},
     "outputs": [
      {
       "metadata": {},
       "output_type": "pyout",
       "prompt_number": 3,
       "text": [
        "False"
       ]
      }
     ],
     "prompt_number": 3
    },
    {
     "cell_type": "code",
     "collapsed": false,
     "input": [
      "print(range(10))"
     ],
     "language": "python",
     "metadata": {},
     "outputs": [
      {
       "output_type": "stream",
       "stream": "stdout",
       "text": [
        "[0, 1, 2, 3, 4, 5, 6, 7, 8, 9]\n"
       ]
      }
     ],
     "prompt_number": 4
    },
    {
     "cell_type": "code",
     "collapsed": false,
     "input": [
      "sum = 0.0\n",
      "for i in range(10):\n",
      "    sum += 0.1\n",
      "print(\"%.8f\" % sum)\n",
      "print(\"%.24f\" % sum)\n",
      "print(sum==1)"
     ],
     "language": "python",
     "metadata": {},
     "outputs": [
      {
       "output_type": "stream",
       "stream": "stdout",
       "text": [
        "1.00000000\n",
        "0.999999999999999888977698\n",
        "False\n"
       ]
      }
     ],
     "prompt_number": 9
    },
    {
     "cell_type": "code",
     "collapsed": false,
     "input": [
      "help(round)"
     ],
     "language": "python",
     "metadata": {},
     "outputs": [
      {
       "output_type": "stream",
       "stream": "stdout",
       "text": [
        "Help on built-in function round in module __builtin__:\n",
        "\n",
        "round(...)\n",
        "    round(number[, ndigits]) -> floating point number\n",
        "    \n",
        "    Round a number to a given precision in decimal digits (default 0 digits).\n",
        "    This always returns a floating point number.  Precision may be negative.\n",
        "\n"
       ]
      }
     ],
     "prompt_number": 7
    },
    {
     "cell_type": "code",
     "collapsed": false,
     "input": [
      "sum2 = round(sum, 2)"
     ],
     "language": "python",
     "metadata": {},
     "outputs": [],
     "prompt_number": 10
    },
    {
     "cell_type": "code",
     "collapsed": false,
     "input": [
      "print(\"%.8f\" % sum2)\n",
      "print(\"%.24f\" % sum2)\n",
      "print(sum2==1)"
     ],
     "language": "python",
     "metadata": {},
     "outputs": [
      {
       "output_type": "stream",
       "stream": "stdout",
       "text": [
        "1.00000000\n",
        "1.000000000000000000000000\n",
        "True\n"
       ]
      }
     ],
     "prompt_number": 11
    },
    {
     "cell_type": "code",
     "collapsed": false,
     "input": [],
     "language": "python",
     "metadata": {},
     "outputs": []
    }
   ],
   "metadata": {}
  }
 ]
}